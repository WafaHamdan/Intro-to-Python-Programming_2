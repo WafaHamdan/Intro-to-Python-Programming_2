{
 "cells": [
  {
   "cell_type": "markdown",
   "id": "d10ebbfd-dc8a-4d82-bdd9-e0e0ecdc1022",
   "metadata": {},
   "source": [
    "###                   Wafa Hamdan Alshehri"
   ]
  },
  {
   "cell_type": "raw",
   "id": "85b505eb-0bac-4dc0-ab0d-8f7daa67679f",
   "metadata": {},
   "source": [
    "1. Biggie Size - Given a list, write a function that changes all positive numbers in the list to \"big\".\n",
    "\n",
    "Example: biggie_size([-1, 3, 5, -5]) returns that same list, but whose values are now [-1, \"big\", \"big\", -5]\n",
    "2. Count Positives - Given a list of numbers, create a function to replace the last value with the number of positive values. \n",
    "(Note that zero is not considered to be a positive number).\n",
    "\n",
    "Example: count_positives([-1,1,1,1]) changes the original list to [-1,1,1,3] and returns it\n",
    "Example: count_positives([1,6,-4,-2,-7,-2]) changes the list to [1,6,-4,-2,-7,2] and returns it\n",
    "3. Sum Total - Create a function that takes a list and returns the sum of all the values in the array.\n",
    "\n",
    "Example: sum_total([1,2,3,4]) should return 10\n",
    "Example: sum_total([6,3,-2]) should return 7\n",
    "4. Average - Create a function that takes a list and returns the average of all the values.\n",
    "\n",
    "Example: average([1,2,3,4]) should return 2.5\n",
    "5. Length - Create a function that takes a list and returns the length of the list.\n",
    "\n",
    "Example: length([37,2,1,-9]) should return 4\n",
    "Example: length([]) should return 0\n",
    "6. Minimum - Create a function that takes a list of numbers and returns the minimum value in the list. (Optional) If the list is empty, have the function return False.\n",
    "\n",
    "Example: minimum([37,2,1,-9]) should return -9\n",
    "(Optional) Example: minimum([]) should return False\n",
    "7. Maximum - Create a function that takes a list and returns the maximum value in the array. (Optional) If the list is empty, have the function return False.\n",
    "\n",
    "Example: maximum([37,2,1,-9]) should return 37\n",
    "(Optional) Example: maximum([]) should return False\n",
    "8. Ultimate Analysis (Optional) - Create a function that takes a list and returns a dictionary that has the sumTotal, average, minimum, maximum and length of the list.\n",
    "\n",
    "Example: ultimate_analysis([37,2,1,-9]) should return {'sumTotal': 31, 'average': 7.75, 'minimum': -9, 'maximum': 37, 'length': 4 }\n",
    "9. Reverse List (Optional) - Create a function that takes a list and returns that list with values reversed. Do this without creating a second list. (This challenge is known to appear during basic technical interviews.)\n",
    "\n",
    "Example: reverse_list([37,2,1,-9]) should return [-9,1,2,37]"
   ]
  },
  {
   "cell_type": "code",
   "execution_count": 9,
   "id": "c6182973-809f-465f-abe1-5de75199d8bb",
   "metadata": {},
   "outputs": [
    {
     "name": "stdout",
     "output_type": "stream",
     "text": [
      "[-1, 'big', 'big', -5]\n"
     ]
    }
   ],
   "source": [
    "# Given a list, write a function that changes all positive numbers in the list to \"big\".\n",
    "\n",
    "def BiggieSize(list):\n",
    "    for x in range(len(list)):\n",
    "        if list[x] > 0:\n",
    "            list[x]='big'\n",
    "    return list\n",
    "print(BiggieSize([-1, 3, 5, -5]))\n",
    "        \n",
    "    "
   ]
  },
  {
   "cell_type": "code",
   "execution_count": 13,
   "id": "b1e007a1-a728-4054-969b-071c399f4b82",
   "metadata": {},
   "outputs": [
    {
     "name": "stdout",
     "output_type": "stream",
     "text": [
      "[2, 1, 6, -4, -2, -7, -2]\n",
      "[2, 1, 6, -4, -2, -7, 3]\n"
     ]
    }
   ],
   "source": [
    "#Given a list of numbers, create a function to replace the last value with the number of positive values. zero is not considered to be a positive \n",
    "\n",
    "def count_positives(list):\n",
    "    count = 0\n",
    "    for value in list:\n",
    "        if value > 0:\n",
    "            count += 1\n",
    "    list[len(list)-1] = count\n",
    "    return list\n",
    "print([2, 1, 6, -4,-2 ,-7 ,-2 ])\n",
    "print(count_positives([2, 1, 6, -4,-2 ,-7 ,-2 ]))\n",
    "\n",
    "        "
   ]
  },
  {
   "cell_type": "code",
   "execution_count": 15,
   "id": "8ab1a4be-2c39-4790-a64e-b9a96a7c0f75",
   "metadata": {},
   "outputs": [
    {
     "name": "stdout",
     "output_type": "stream",
     "text": [
      "[1, 2, 3, 4]\n",
      "10\n"
     ]
    }
   ],
   "source": [
    "#Sum Total - Create a function that takes a list and returns the sum of all the values in the array.\n",
    "\n",
    "def Sum_Total(arry):\n",
    "    sum=0\n",
    "    for num in arry:\n",
    "        sum += num\n",
    "    return(sum)\n",
    "print([1,2,3,4])\n",
    "print(Sum_Total([1,2,3,4]))"
   ]
  },
  {
   "cell_type": "code",
   "execution_count": 21,
   "id": "24c8c701-6b73-4438-a586-38a6a80436e9",
   "metadata": {},
   "outputs": [
    {
     "name": "stdout",
     "output_type": "stream",
     "text": [
      "2.5\n"
     ]
    }
   ],
   "source": [
    "#Average - Create a function that takes a list and returns the average of all the values.\n",
    "\n",
    "def average(list):\n",
    "    sum = 0\n",
    "    for value in list:\n",
    "        sum += value\n",
    "    return (sum/len(list))\n",
    "\n",
    "print(average([1,2,3,4]))\n",
    "    "
   ]
  },
  {
   "cell_type": "code",
   "execution_count": 25,
   "id": "6b6ce47b-2db0-46dd-9ec5-12e09583cdea",
   "metadata": {},
   "outputs": [
    {
     "name": "stdout",
     "output_type": "stream",
     "text": [
      "4\n"
     ]
    }
   ],
   "source": [
    "#Length - Create a function that takes a list and returns the length of the list.\n",
    "#length([37,2,1,-9]) should return 4\n",
    "def Length(list):\n",
    "    return len(list)\n",
    "\n",
    "print(Length([37,2,1,-9]))"
   ]
  },
  {
   "cell_type": "code",
   "execution_count": 4,
   "id": "32aa7ada-618f-4951-b8dc-c1dd3a8dd18e",
   "metadata": {},
   "outputs": [
    {
     "name": "stdout",
     "output_type": "stream",
     "text": [
      "-9\n"
     ]
    }
   ],
   "source": [
    "# Minimum - Create a function that takes a list of numbers and returns the minimum value in the list.\n",
    "# (Optional) If the list is empty, have the function return False.\n",
    "\n",
    "def Minimum(list):\n",
    "    if len(list) <= 0:\n",
    "        return False\n",
    "    \n",
    "    min_num = list[0]\n",
    "    \n",
    "    for x in list:\n",
    "        if x < min_num:\n",
    "            min_num = x\n",
    "    return(min_num)\n",
    "print(Minimum([37,2,1,-9]))\n",
    "        "
   ]
  },
  {
   "cell_type": "code",
   "execution_count": 34,
   "id": "85e5c612-4de0-42ac-bf73-19b311ef2d47",
   "metadata": {},
   "outputs": [
    {
     "name": "stdout",
     "output_type": "stream",
     "text": [
      "37\n"
     ]
    }
   ],
   "source": [
    " # Maximum - Create a function that takes a list and returns the maximum value in the array.\n",
    " # (Optional) If the list is empty, have the function return False.\n",
    "\n",
    "def Maximum(list):\n",
    "    if len(list) <= 0:\n",
    "        return False\n",
    "    \n",
    "    max_num = list[0]\n",
    "    \n",
    "    for x in list:\n",
    "        if x > max_num:\n",
    "            max_num = x\n",
    "    return(max_num)\n",
    "print(Maximum([37,2,1,-9]))\n"
   ]
  },
  {
   "cell_type": "code",
   "execution_count": 40,
   "id": "c9959b6b-64e1-438d-ba13-8319526c16f8",
   "metadata": {},
   "outputs": [
    {
     "name": "stdout",
     "output_type": "stream",
     "text": [
      "{'sumTotal': 37, 'average': 9.25, 'minimum': 37, 'maximun': 37, 'length': 4}\n"
     ]
    }
   ],
   "source": [
    "# Ultimate Analysis (Optional) - Create a function that takes a list and returns a dictionary that has the sumTotal,\n",
    "# average, minimum, maximum and length of the list.\n",
    "\n",
    "def Ultimate_Analysis(list):\n",
    "    dictionary={'sumTotal':0, 'average': 0, 'minimum': list[0],\n",
    "                'maximun': list[0], 'length': len(list) }\n",
    "    for i in list:\n",
    "        if dictionary['minimum']< i:\n",
    "            dictionary['minimum'] = i\n",
    "        if dictionary['maximun']> i:\n",
    "            dictionary['maximun'] = i\n",
    "        dictionary['sumTotal']+= i\n",
    "        dictionary['average'] = dictionary['sumTotal']/len(list)  \n",
    "        return dictionary \n",
    "    \n",
    "print(Ultimate_Analysis([37,2,1,-9]))   "
   ]
  },
  {
   "cell_type": "code",
   "execution_count": 42,
   "id": "e863d616-cde6-4698-95f2-54ce3ce210c7",
   "metadata": {},
   "outputs": [
    {
     "name": "stdout",
     "output_type": "stream",
     "text": [
      "[-9, 2, 1, 37]\n"
     ]
    }
   ],
   "source": [
    "#Reverse List (Optional) - Create a function that takes a list and returns that list with values reversed. \n",
    "#Do this without creating a second list. (This challenge is known to appear during basic technical interviews)\n",
    "def Reverse_list(list):\n",
    "    for i in range(0, (len(list)-1)//2):\n",
    "        temp = list[i]\n",
    "        list[i] = list[len(list)-1-i]\n",
    "        list[len(list)-1-i] = temp\n",
    "    return list\n",
    "print(Reverse_list([37,2,1,-9]))"
   ]
  },
  {
   "cell_type": "code",
   "execution_count": null,
   "id": "4086498a-1f15-44a9-bd99-1a07f5141248",
   "metadata": {},
   "outputs": [],
   "source": []
  }
 ],
 "metadata": {
  "kernelspec": {
   "display_name": "Python 3",
   "language": "python",
   "name": "python3"
  },
  "language_info": {
   "codemirror_mode": {
    "name": "ipython",
    "version": 3
   },
   "file_extension": ".py",
   "mimetype": "text/x-python",
   "name": "python",
   "nbconvert_exporter": "python",
   "pygments_lexer": "ipython3",
   "version": "3.8.8"
  }
 },
 "nbformat": 4,
 "nbformat_minor": 5
}
